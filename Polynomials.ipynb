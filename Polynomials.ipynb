{
 "cells": [
  {
   "cell_type": "markdown",
   "id": "86fc8e01",
   "metadata": {},
   "source": [
    "Let us define $n+1$ points of a $n$-degree polynomial, in this case $f(x) = x^2$."
   ]
  },
  {
   "cell_type": "code",
   "execution_count": 2,
   "id": "7210ee91",
   "metadata": {},
   "outputs": [
    {
     "data": {
      "text/html": [
       "<span style=\"white-space:pre; font-family: monospace\">1 2 3\n",
       "1 4 9\n",
       "</span>"
      ]
     },
     "execution_count": 2,
     "metadata": {},
     "output_type": "execute_result"
    }
   ],
   "source": [
    "p ← 2 3 ⍴ 1 2 3 1 4 9\n",
    "p"
   ]
  },
  {
   "cell_type": "markdown",
   "id": "7ac330cb",
   "metadata": {},
   "source": [
    "Let us define a function that can interpolate the unique $n$-degree polynomial passing through $n+1$ points. The formula is described in Chapter 1 of [_A Programmers Introduction to Mathematics_](https://pimbook.org) as:\n",
    "\n",
    "$$f(x) = \\sum_{i=0}^{n} y_i \\left(\\prod_{j \\ne i}\\frac{x - x_j}{x_i - x_j}\\right)$$\n",
    "\n",
    "where $x_i, y_i$ are the given points."
   ]
  },
  {
   "cell_type": "code",
   "execution_count": 9,
   "id": "79547980",
   "metadata": {},
   "outputs": [],
   "source": [
    "]dinput\n",
    "poly←{\n",
    "  x←1⌷⍺\n",
    "  y←2⌷⍺\n",
    "  r←{⍵⌽x}¨(⍳≢x)-1\n",
    "  ⊃⊃{\n",
    "      pt←⍵\n",
    "      t←{×/(pt-1↓⍵)÷(1↓⍵-⊃⍵)}¨r\n",
    "      y+.×t\n",
    "  }⊂⍵\n",
    "}"
   ]
  },
  {
   "cell_type": "markdown",
   "id": "f6d91330",
   "metadata": {},
   "source": [
    "We can now interpolate a polynomial from the `p` points and evaluate it against other inputs."
   ]
  },
  {
   "cell_type": "code",
   "execution_count": 10,
   "id": "3380cddf",
   "metadata": {},
   "outputs": [
    {
     "data": {
      "text/html": [
       "<span style=\"white-space:pre; font-family: monospace\">16 64 49 1\n",
       "</span>"
      ]
     },
     "execution_count": 10,
     "metadata": {},
     "output_type": "execute_result"
    }
   ],
   "source": [
    "p poly 4 8 7 1"
   ]
  }
 ],
 "metadata": {
  "kernelspec": {
   "display_name": "Dyalog APL",
   "language": "apl",
   "name": "dyalog-kernel"
  },
  "language_info": {
   "file_extension": ".apl",
   "mimetype": "text/apl",
   "name": "APL"
  }
 },
 "nbformat": 4,
 "nbformat_minor": 5
}
